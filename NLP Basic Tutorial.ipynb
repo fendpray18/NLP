{
  "nbformat": 4,
  "nbformat_minor": 0,
  "metadata": {
    "colab": {
      "name": "Untitled",
      "provenance": [],
      "collapsed_sections": [],
      "authorship_tag": "ABX9TyOYgimpIByV5FFlz1RS1OBB",
      "include_colab_link": true
    },
    "kernelspec": {
      "name": "python3",
      "display_name": "Python 3"
    }
  },
  "cells": [
    {
      "cell_type": "markdown",
      "metadata": {
        "id": "view-in-github",
        "colab_type": "text"
      },
      "source": [
        "<a href=\"https://colab.research.google.com/github/fendpray18/NLP/blob/master/NLP%20Basic%20Tutorial.ipynb\" target=\"_parent\"><img src=\"https://colab.research.google.com/assets/colab-badge.svg\" alt=\"Open In Colab\"/></a>"
      ]
    },
    {
      "cell_type": "markdown",
      "metadata": {
        "id": "GTMckNeLbxaB",
        "colab_type": "text"
      },
      "source": [
        "#Tutorial Basic NLP\n",
        "\n",
        "As we know that NLP (natural language processing) is used to do for text processing. There are few step/techincal that we can understand :\n",
        "\n",
        "\n",
        "1.   **Case Folding**\n",
        "2.   **Tokenizing**\n",
        "3.   **Filtering & Stemming**\n",
        "\n",
        "Text processing using a tool library with NLTK.\n"
      ]
    },
    {
      "cell_type": "markdown",
      "metadata": {
        "id": "N4cIhs7mNlQn",
        "colab_type": "text"
      },
      "source": [
        "#First Step : Downloading NLTK Package"
      ]
    },
    {
      "cell_type": "code",
      "metadata": {
        "id": "682hcpQcLFj9",
        "colab_type": "code",
        "colab": {
          "base_uri": "https://localhost:8080/",
          "height": 51
        },
        "outputId": "08f6fb5a-52b3-4eb2-b09d-aa1a8d3ac2b9"
      },
      "source": [
        "pip install nltk"
      ],
      "execution_count": null,
      "outputs": [
        {
          "output_type": "stream",
          "text": [
            "Requirement already satisfied: nltk in /usr/local/lib/python3.6/dist-packages (3.2.5)\n",
            "Requirement already satisfied: six in /usr/local/lib/python3.6/dist-packages (from nltk) (1.15.0)\n"
          ],
          "name": "stdout"
        }
      ]
    },
    {
      "cell_type": "code",
      "metadata": {
        "id": "YuYxYT-gLjuk",
        "colab_type": "code",
        "colab": {
          "base_uri": "https://localhost:8080/",
          "height": 68
        },
        "outputId": "1896b7a7-1759-4420-b431-f1f0f4f0a8f9"
      },
      "source": [
        "import nltk\n",
        "#nltk.download('wordnet') #call the nltk downloader\n",
        "#nltk.download('popular', quiet=True) # for downloading packages\n",
        "nltk.download('punkt') # first-time use only\n",
        "#nltk.download('wordnet') # first-time use only\n"
      ],
      "execution_count": null,
      "outputs": [
        {
          "output_type": "stream",
          "text": [
            "[nltk_data] Downloading package punkt to /root/nltk_data...\n",
            "[nltk_data]   Unzipping tokenizers/punkt.zip.\n"
          ],
          "name": "stdout"
        },
        {
          "output_type": "execute_result",
          "data": {
            "text/plain": [
              "True"
            ]
          },
          "metadata": {
            "tags": []
          },
          "execution_count": 6
        }
      ]
    },
    {
      "cell_type": "markdown",
      "metadata": {
        "id": "2g627mf7nbjA",
        "colab_type": "text"
      },
      "source": [
        "#An Example \n",
        "\n",
        "There is no consider to be one by step on this learning. Just ignoring and see the purpose example."
      ]
    },
    {
      "cell_type": "code",
      "metadata": {
        "id": "-dV9OKfwnY5x",
        "colab_type": "code",
        "colab": {
          "base_uri": "https://localhost:8080/",
          "height": 34
        },
        "outputId": "0423e5e5-a85b-407d-bc36-eacaa1157e20"
      },
      "source": [
        "from nltk.stem import WordNetLemmatizer #nltk.stem is a package that performs stemming using different classes\n",
        "wnl = WordNetLemmatizer() #fuction for using lemma (as derived word and root word, ex : ran => run)\n",
        "print(wnl.lemmatize('leaves'))\n"
      ],
      "execution_count": null,
      "outputs": [
        {
          "output_type": "stream",
          "text": [
            "leaf\n"
          ],
          "name": "stdout"
        }
      ]
    },
    {
      "cell_type": "markdown",
      "metadata": {
        "id": "fvr6vWoApXzq",
        "colab_type": "text"
      },
      "source": [
        "#Ready to the Text Processing Step\n"
      ]
    },
    {
      "cell_type": "markdown",
      "metadata": {
        "id": "ICSNZGCwpWyU",
        "colab_type": "text"
      },
      "source": [
        "**1. Case Folding**\n",
        "\n",
        "A process to convert text to be standard text. In case for this step, it can be used a function, as lower text / **.lower()**\n",
        "\n"
      ]
    },
    {
      "cell_type": "code",
      "metadata": {
        "id": "6GCdqpkqrpN_",
        "colab_type": "code",
        "colab": {
          "base_uri": "https://localhost:8080/",
          "height": 102
        },
        "outputId": "f2ed2e81-c132-4e5d-b861-3d2a15c8addf"
      },
      "source": [
        "text = str(input(\"Please write sentence (no need much word, it just can be 5 word maximum) : \"))\n",
        "\n",
        "print(\"\\nInput Text : {} \\n\" .format(text))\n",
        "\n",
        "lower_text = text.lower()\n",
        "print(\"Case Folding Text :\", lower_text)"
      ],
      "execution_count": null,
      "outputs": [
        {
          "output_type": "stream",
          "text": [
            "Please write sentence (no need much word, it just can be 5 word maximum) : saya adalah Fendy Prayogi\n",
            "\n",
            "Input Text : saya adalah Fendy Prayogi \n",
            "\n",
            "Case Folding Text : saya adalah fendy prayogi\n"
          ],
          "name": "stdout"
        }
      ]
    },
    {
      "cell_type": "markdown",
      "metadata": {
        "id": "fzfaJVkduFEc",
        "colab_type": "text"
      },
      "source": [
        "**2. Tokenizing**\n",
        "\n",
        "In next step, we can change that text to be one by one word or we can know it as \"LIST\". There are 2 function list from tokenizing step :\n",
        "\n",
        "1. **Sentence List : function sent_tokenize()**\n",
        "\n",
        "2. **Word List : function word_tokenize()**\n",
        "\n",
        "The differents of these function are convert list into text. In other case, there have funtion to remove text, like removing whitespace, mark text, and number.\n",
        "\n",
        "*   **Removing Number** => use a function is **re.sub(pattern, replace_string, string)**\n",
        "*   **Removing Punctuation** => use **.translate() /convert pattern mapping char and using function .maketrans()**\n",
        "*   **Removing Whitespace** => use function is **.strip()** to remove whitespacing leading and trailing, and use **re.sub(pattern, replace_string, string)** if there have amount value of one or more whitespace \n",
        "\n",
        "\n",
        "\n",
        "\n",
        "\n"
      ]
    },
    {
      "cell_type": "code",
      "metadata": {
        "id": "BqC8tyxpk44T",
        "colab_type": "code",
        "colab": {
          "base_uri": "https://localhost:8080/",
          "height": 241
        },
        "outputId": "e8a246c3-9e69-4d6b-d568-1b2736c848ab"
      },
      "source": [
        "import string #package consist of character\n",
        "import re #regex library\n",
        "\n",
        "# import word_tokenize from NLTK\n",
        "from nltk.tokenize import word_tokenize \n",
        "\n",
        "# sentence input\n",
        "sentence = \"Sebelumnya, \\n kasus positif virus Corona pada 24 April sebanyak 8.211 orang. \\n Jumlah pasien sembuh Corona di RI ada 1.002 orang dan meninggal 689 orang.\"\n",
        "\n",
        "\n",
        "# ------ Case Folding --------\n",
        "# gunakan fungsi .lower()\n",
        "lowercase_sentence = sentence.lower()\n",
        "\n",
        "print('Case Folding Result : \\n')\n",
        "print(lowercase_sentence)\n",
        "print('\\n\\n\\n')\n",
        "\n",
        "# ------ Tokenizing ---------\n",
        "#remove angka\n",
        "lowercase_sentence = re.sub(r\"\\d+\", \"\", lowercase_sentence)\n",
        "\n",
        "#remove punctuation\n",
        "lowercase_sentence = lowercase_sentence.translate(str.maketrans(\"\",\"\",string.punctuation))\n",
        "\n",
        "#remove whitespace leading & trailing\n",
        "lowercase_sentence = lowercase_sentence.strip()\n",
        "\n",
        "#remove multiple whitespace into single whitespace\n",
        "lowercase_sentence = re.sub('\\s+',' ',lowercase_sentence)\n",
        "\n",
        "\n",
        "tokens = nltk.tokenize.word_tokenize(lowercase_sentence)\n",
        "\n",
        "print('Tokenizing Result : \\n') \n",
        "print(tokens)"
      ],
      "execution_count": null,
      "outputs": [
        {
          "output_type": "stream",
          "text": [
            "Case Folding Result : \n",
            "\n",
            "sebelumnya, \n",
            " kasus positif virus corona pada 24 april sebanyak 8.211 orang. \n",
            " jumlah pasien sembuh corona di ri ada 1.002 orang dan meninggal 689 orang.\n",
            "\n",
            "\n",
            "\n",
            "\n",
            "Tokenizing Result : \n",
            "\n",
            "['sebelumnya', 'kasus', 'positif', 'virus', 'corona', 'pada', 'april', 'sebanyak', 'orang', 'jumlah', 'pasien', 'sembuh', 'corona', 'di', 'ri', 'ada', 'orang', 'dan', 'meninggal', 'orang']\n"
          ],
          "name": "stdout"
        }
      ]
    },
    {
      "cell_type": "markdown",
      "metadata": {
        "id": "b-sSdpnTmavA",
        "colab_type": "text"
      },
      "source": [
        "And then we can calculate amount of each word on sentence, using function .**freqDist()** in NLTK Library, and showing the result with **.most_common()**"
      ]
    },
    {
      "cell_type": "code",
      "metadata": {
        "id": "ZwhlWCsqnnwR",
        "colab_type": "code",
        "colab": {
          "base_uri": "https://localhost:8080/",
          "height": 88
        },
        "outputId": "eff514d8-3456-4a3f-c575-dc9e45c4d346"
      },
      "source": [
        "from nltk.probability import FreqDist\n",
        "\n",
        "calculate_word = nltk.FreqDist(tokens)\n",
        "\n",
        "print(\"===The Result for Knowing Amount of Word===\\n\")\n",
        "print(calculate_word.most_common())"
      ],
      "execution_count": null,
      "outputs": [
        {
          "output_type": "stream",
          "text": [
            "===The Result for Knowing Amount of Word===\n",
            "\n",
            "[('orang', 3), ('corona', 2), ('sebelumnya', 1), ('kasus', 1), ('positif', 1), ('virus', 1), ('pada', 1), ('april', 1), ('sebanyak', 1), ('jumlah', 1), ('pasien', 1), ('sembuh', 1), ('di', 1), ('ri', 1), ('ada', 1), ('dan', 1), ('meninggal', 1)]\n"
          ],
          "name": "stdout"
        }
      ]
    },
    {
      "cell_type": "markdown",
      "metadata": {
        "id": "skTH6Jn4ozkf",
        "colab_type": "text"
      },
      "source": [
        "#Using Pandas Library for Making A Visualization\n",
        "\n",
        "We can convert value from function **.FreqDist()** to visualization diagram using Pandas Dataframe with function **pd.DataFrame.from_dict()** and parameter **(orient='index')** /change key dictionary become row dataframe. Then, using function **.plot()** and **(kind='bar')** for bar plot.\n"
      ]
    },
    {
      "cell_type": "code",
      "metadata": {
        "id": "nzA3jzbdscYU",
        "colab_type": "code",
        "colab": {
          "base_uri": "https://localhost:8080/",
          "height": 347
        },
        "outputId": "174ba33b-507d-4f3d-d179-47a7c7b3393a"
      },
      "source": [
        "import pandas as pd\n",
        "\n",
        "df_freq_tokens = pd.DataFrame.from_dict(calculate_word, orient='index')\n",
        "df_freq_tokens.columns = ['Frequency']\n",
        "df_freq_tokens.index.name = 'Key'\n",
        "\n",
        "df_freq_tokens.plot(kind='bar')"
      ],
      "execution_count": null,
      "outputs": [
        {
          "output_type": "execute_result",
          "data": {
            "text/plain": [
              "<matplotlib.axes._subplots.AxesSubplot at 0x7f5fbff45320>"
            ]
          },
          "metadata": {
            "tags": []
          },
          "execution_count": 12
        },
        {
          "output_type": "display_data",
          "data": {
            "image/png": "[encoded data removed]",
            "text/plain": [
              "<Figure size 432x288 with 1 Axes>"
            ]
          },
          "metadata": {
            "tags": [],
            "needs_background": "light"
          }
        }
      ]
    },
    {
      "cell_type": "markdown",
      "metadata": {
        "id": "MNstwjNm3GOw",
        "colab_type": "text"
      },
      "source": [
        "#Filtering (Stopword Removal)\n",
        "is used to filtrate result for word which important word if word often appeared on sentences, it cant count called **\"Stopword\"**. Example : the, that, etc. \n",
        "\n",
        "We can use the function is **.stopword()** on NLTK library.\n"
      ]
    },
    {
      "cell_type": "code",
      "metadata": {
        "id": "wTDWS-ha4qDS",
        "colab_type": "code",
        "colab": {
          "base_uri": "https://localhost:8080/",
          "height": 68
        },
        "outputId": "84414511-06af-4468-e8ce-267e4a98f47a"
      },
      "source": [
        "from nltk.corpus import stopwords\n",
        "\n",
        "# download function stopword from NLTK library\n",
        "nltk.download('stopwords')\n",
        "\n",
        "# tokenize text\n",
        "calculate_word\n",
        "\n",
        "# get Indonesian stopword \n",
        "list_stopwords = set(stopwords.words('indonesian'))\n",
        "\n",
        "#remove stopword pada list token\n",
        "tokens_without_stopword = [word for word in calculate_word if not word in list_stopwords]\n",
        "\n",
        "\n",
        "print(tokens_without_stopword)"
      ],
      "execution_count": null,
      "outputs": [
        {
          "output_type": "stream",
          "text": [
            "[nltk_data] Downloading package stopwords to /root/nltk_data...\n",
            "[nltk_data]   Unzipping corpora/stopwords.zip.\n",
            "['positif', 'virus', 'corona', 'april', 'orang', 'pasien', 'sembuh', 'ri', 'meninggal']\n"
          ],
          "name": "stdout"
        }
      ]
    },
    {
      "cell_type": "markdown",
      "metadata": {
        "id": "OjAv9Drr7-vO",
        "colab_type": "text"
      },
      "source": [
        "#STEMMING\n",
        "is step reduce inflected for suffix and prefix to be word base. Almost similar with lemmatize.\n",
        "\n",
        "As example in indonesian word is :\n",
        "*   memelihara = pelihara\n",
        "*   menjaga = jaga\n",
        "*   bersantai = santai\n",
        "*   terjebak = jebak\n",
        "\n",
        "On Stemming, it have NLTK library that can use algorithm :\n",
        "*   Porter algorithm\n",
        "*   WordNet Lemmatizer algorithm\n",
        "*   SnowBall algorithm\n",
        "*   Lancester algorithm\n",
        "\n",
        "\n",
        "\n",
        "\n",
        "\n",
        "\n",
        "\n"
      ]
    },
    {
      "cell_type": "code",
      "metadata": {
        "id": "3dQfRo6l918U",
        "colab_type": "code",
        "colab": {
          "base_uri": "https://localhost:8080/",
          "height": 340
        },
        "outputId": "335b093f-8fc0-4766-c337-a94f4d7d6f1f"
      },
      "source": [
        "from nltk.stem import PorterStemmer \n",
        "   \n",
        "stemmer = PorterStemmer() \n",
        "  \n",
        "plurals = ['caresses', 'flies', 'dies', 'mules', 'denied',\n",
        "        'died', 'agreed', 'owned', 'humbled', 'sized',\n",
        "        'meeting', 'stating', 'siezing', 'itemization',\n",
        "        'sensational', 'traditional', 'reference', 'colonizer',\n",
        "        'plotted'] \n",
        "  \n",
        "singles = [(plural + \" : \" + stemmer.stem(plural)) for plural in plurals]\n",
        "\n",
        "singles"
      ],
      "execution_count": null,
      "outputs": [
        {
          "output_type": "execute_result",
          "data": {
            "text/plain": [
              "['caresses : caress',\n",
              " 'flies : fli',\n",
              " 'dies : die',\n",
              " 'mules : mule',\n",
              " 'denied : deni',\n",
              " 'died : die',\n",
              " 'agreed : agre',\n",
              " 'owned : own',\n",
              " 'humbled : humbl',\n",
              " 'sized : size',\n",
              " 'meeting : meet',\n",
              " 'stating : state',\n",
              " 'siezing : siez',\n",
              " 'itemization : item',\n",
              " 'sensational : sensat',\n",
              " 'traditional : tradit',\n",
              " 'reference : refer',\n",
              " 'colonizer : colon',\n",
              " 'plotted : plot']"
            ]
          },
          "metadata": {
            "tags": []
          },
          "execution_count": 16
        }
      ]
    },
    {
      "cell_type": "markdown",
      "metadata": {
        "id": "pHWMKhNM97e-",
        "colab_type": "text"
      },
      "source": [
        "But all of algorithms on above, is only can use for english, spanish, excepting indonesian.\n",
        "\n",
        "We can use indonesian word thourgh text from library **SASTRAWI**."
      ]
    },
    {
      "cell_type": "code",
      "metadata": {
        "id": "fj3Ds7Tg-iSp",
        "colab_type": "code",
        "colab": {
          "base_uri": "https://localhost:8080/",
          "height": 122
        },
        "outputId": "8b358f19-1af4-41ae-9542-da3969260488"
      },
      "source": [
        "pip install sastrawi # download and install sastrawi package"
      ],
      "execution_count": null,
      "outputs": [
        {
          "output_type": "stream",
          "text": [
            "Collecting sastrawi\n",
            "\u001b[?25l  Downloading https://files.pythonhosted.org/packages/6f/4b/bab676953da3103003730b8fcdfadbdd20f333d4add10af949dd5c51e6ed/Sastrawi-1.0.1-py2.py3-none-any.whl (209kB)\n",
            "\r\u001b[K     |█▋                              | 10kB 15.8MB/s eta 0:00:01\r\u001b[K     |███▏                            | 20kB 3.0MB/s eta 0:00:01\r\u001b[K     |████▊                           | 30kB 3.4MB/s eta 0:00:01\r\u001b[K     |██████▎                         | 40kB 3.6MB/s eta 0:00:01\r\u001b[K     |███████▉                        | 51kB 3.3MB/s eta 0:00:01\r\u001b[K     |█████████▍                      | 61kB 3.5MB/s eta 0:00:01\r\u001b[K     |███████████                     | 71kB 3.7MB/s eta 0:00:01\r\u001b[K     |████████████▌                   | 81kB 4.0MB/s eta 0:00:01\r\u001b[K     |██████████████                  | 92kB 3.8MB/s eta 0:00:01\r\u001b[K     |███████████████▋                | 102kB 4.0MB/s eta 0:00:01\r\u001b[K     |█████████████████▏              | 112kB 4.0MB/s eta 0:00:01\r\u001b[K     |██████████████████▊             | 122kB 4.0MB/s eta 0:00:01\r\u001b[K     |████████████████████▎           | 133kB 4.0MB/s eta 0:00:01\r\u001b[K     |█████████████████████▉          | 143kB 4.0MB/s eta 0:00:01\r\u001b[K     |███████████████████████▍        | 153kB 4.0MB/s eta 0:00:01\r\u001b[K     |█████████████████████████       | 163kB 4.0MB/s eta 0:00:01\r\u001b[K     |██████████████████████████▋     | 174kB 4.0MB/s eta 0:00:01\r\u001b[K     |████████████████████████████▏   | 184kB 4.0MB/s eta 0:00:01\r\u001b[K     |█████████████████████████████▊  | 194kB 4.0MB/s eta 0:00:01\r\u001b[K     |███████████████████████████████▎| 204kB 4.0MB/s eta 0:00:01\r\u001b[K     |████████████████████████████████| 215kB 4.0MB/s \n",
            "\u001b[?25hInstalling collected packages: sastrawi\n",
            "Successfully installed sastrawi-1.0.1\n"
          ],
          "name": "stdout"
        }
      ]
    },
    {
      "cell_type": "code",
      "metadata": {
        "id": "JTCkAUsD_O-0",
        "colab_type": "code",
        "colab": {
          "base_uri": "https://localhost:8080/",
          "height": 170
        },
        "outputId": "f8cbe61d-762c-4049-a403-e62669a16b14"
      },
      "source": [
        "# import Sastrawi package\n",
        "from Sastrawi.Stemmer.StemmerFactory import StemmerFactory\n",
        "\n",
        "# create stemmer\n",
        "factory = StemmerFactory()\n",
        "stemmer = factory.create_stemmer()\n",
        "\n",
        "# token without stopword\n",
        "list_tokens = tokens_without_stopword\n",
        "\n",
        "# stem\n",
        "output   = [(token + \" : \" + stemmer.stem(token)) for token in list_tokens]\n",
        "\n",
        "output"
      ],
      "execution_count": null,
      "outputs": [
        {
          "output_type": "execute_result",
          "data": {
            "text/plain": [
              "['positif : positif',\n",
              " 'virus : virus',\n",
              " 'corona : corona',\n",
              " 'april : april',\n",
              " 'orang : orang',\n",
              " 'pasien : pasien',\n",
              " 'sembuh : sembuh',\n",
              " 'ri : ri',\n",
              " 'meninggal : tinggal']"
            ]
          },
          "metadata": {
            "tags": []
          },
          "execution_count": 19
        }
      ]
    }
  ]
}